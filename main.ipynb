{
 "cells": [
  {
   "cell_type": "code",
   "execution_count": 1,
   "metadata": {},
   "outputs": [],
   "source": [
    "from scipy.io import loadmat\n",
    "\n",
    "import matplotlib.pyplot as plt\n",
    "import numpy as np\n",
    "\n",
    "from sklearn.pipeline import Pipeline\n",
    "from sklearn.model_selection import cross_val_score\n",
    "from sklearn.neural_network import MLPClassifier\n",
    "from sklearn.svm import SVC\n",
    "from sklearn.metrics import confusion_matrix\n",
    "from sklearn.model_selection import train_test_split\n",
    "from sklearn.model_selection import cross_val_score\n",
    "from sklearn.decomposition import PCA\n",
    "\n",
    "from mne.decoding import CSP\n",
    "from mne.filter import filter_data\n",
    "\n",
    "import geneticalgorithm.geneticalgorithm as gal\n"
   ]
  },
  {
   "cell_type": "code",
   "execution_count": 2,
   "metadata": {},
   "outputs": [],
   "source": [
    "def fitness(X):\n",
    "    if np.sum(X)>= 2:\n",
    "        X = np.array(X, dtype=bool)\n",
    "        ft1 = ft[yt==1]\n",
    "        S1 = np.cov(ft1[:, X], rowvar=False)\n",
    "        ft2 = ft[yt==0]\n",
    "        S2 = np.cov(ft2[:, X], rowvar=False)\n",
    "        miu0 = np.average(ft[:, X], axis=0)\n",
    "        miu1 = np.average(ft1[:, X], axis=0)\n",
    "        miu2 = np.average(ft2[:, X], axis=0)\n",
    "\n",
    "        Sb= (miu1-miu0)[:, np.newaxis]@np.transpose((miu1-miu0)[:, np.newaxis]) + (miu2-miu0)[:, np.newaxis]@np.transpose((miu2-miu0)[:, np.newaxis])\n",
    "\n",
    "        return -np.trace(Sb)/np.trace(S1+S2)*np.sqrt(np.sum(X))\n",
    "    else:\n",
    "        return 100\n"
   ]
  },
  {
   "cell_type": "code",
   "execution_count": 3,
   "metadata": {},
   "outputs": [],
   "source": [
    "#Data acquisition\n",
    "eeg_data = loadmat('All_data.mat')\n",
    "chan = eeg_data.get('clab')[0]\n",
    "x_test = eeg_data.get('x_test')\n",
    "x_train = eeg_data.get('x_train')\n",
    "y = eeg_data.get('y_train')[0]\n",
    "channal_names = []\n",
    "for array in chan:\n",
    "    channal_names.append(array[0])\n",
    "channal_names = np.array(channal_names)\n",
    "x = np.moveaxis(x_train, (0,1,2), (2,1,0)) #(trial, channal, time)\n",
    "x_t = np.moveaxis(x_test, (0,1,2), (2,1,0))"
   ]
  },
  {
   "cell_type": "code",
   "execution_count": 25,
   "metadata": {},
   "outputs": [],
   "source": [
    "xt, xs, yt, ys = train_test_split(x, y, train_size=0.85, random_state=1) #splitting the dataset"
   ]
  },
  {
   "cell_type": "code",
   "execution_count": 26,
   "metadata": {},
   "outputs": [],
   "source": [
    "#filtering the data into low, mid, and high band\n",
    "xt_low = filter_data(xt, 100, l_freq=2, h_freq = 8, verbose='CRITICAL')\n",
    "xt_mid = filter_data(xt, 100, 8, 15, verbose='CRITICAL')\n",
    "xt_high = filter_data(xt, 100, 15, 30, verbose='CRITICAL')\n",
    "\n",
    "xs_low = filter_data(xs, 100, l_freq=2, h_freq = 8, verbose='CRITICAL')\n",
    "xs_mid = filter_data(xs, 100, 8, 15, verbose='CRITICAL')\n",
    "xs_high = filter_data(xs, 100, 15, 30, verbose='CRITICAL')\n",
    "\n",
    "x_test_low = filter_data(x_t, 100, l_freq=2, h_freq = 8, verbose='CRITICAL')\n",
    "x_test_mid = filter_data(x_t, 100, 8, 15, verbose='CRITICAL')\n",
    "x_test_high = filter_data(x_t, 100, 15, 30, verbose='CRITICAL')"
   ]
  },
  {
   "cell_type": "code",
   "execution_count": 27,
   "metadata": {},
   "outputs": [],
   "source": [
    "#defining the processor pipelines\n",
    "pipe = Pipeline([('csp', CSP(n_components=4, reg=None, log=True, norm_trace=False)), ('nn', MLPClassifier((5, 3, 2), max_iter=50000, activation=\"tanh\", random_state=0, alpha=0.001))])\n",
    "rbfpipe = Pipeline([('csp', CSP(n_components=4, reg=None, log=True, norm_trace=False)), ('rbf', SVC(C=0.1, kernel = 'rbf'))])"
   ]
  },
  {
   "cell_type": "code",
   "execution_count": 28,
   "metadata": {},
   "outputs": [
    {
     "name": "stdout",
     "output_type": "stream",
     "text": [
      "Computing rank from data with rank=None\n",
      "    Using tolerance 7.5 (2.2e-16 eps * 28 dim * 1.2e+15  max singular value)\n",
      "    Estimated rank (mag): 28\n",
      "    MAG: rank 28 computed from 28 data channels with 0 projectors\n",
      "Reducing data rank from 28 -> 28\n",
      "Estimating covariance using EMPIRICAL\n",
      "Done.\n",
      "Computing rank from data with rank=None\n",
      "    Using tolerance 7.6 (2.2e-16 eps * 28 dim * 1.2e+15  max singular value)\n",
      "    Estimated rank (mag): 28\n",
      "    MAG: rank 28 computed from 28 data channels with 0 projectors\n",
      "Reducing data rank from 28 -> 28\n",
      "Estimating covariance using EMPIRICAL\n",
      "Done.\n",
      "Computing rank from data with rank=None\n",
      "    Using tolerance 7.6 (2.2e-16 eps * 28 dim * 1.2e+15  max singular value)\n",
      "    Estimated rank (mag): 28\n",
      "    MAG: rank 28 computed from 28 data channels with 0 projectors\n",
      "Reducing data rank from 28 -> 28\n",
      "Estimating covariance using EMPIRICAL\n",
      "Done.\n",
      "Computing rank from data with rank=None\n",
      "    Using tolerance 7.5 (2.2e-16 eps * 28 dim * 1.2e+15  max singular value)\n",
      "    Estimated rank (mag): 28\n",
      "    MAG: rank 28 computed from 28 data channels with 0 projectors\n",
      "Reducing data rank from 28 -> 28\n",
      "Estimating covariance using EMPIRICAL\n",
      "Done.\n",
      "Computing rank from data with rank=None\n",
      "    Using tolerance 7.7 (2.2e-16 eps * 28 dim * 1.2e+15  max singular value)\n",
      "    Estimated rank (mag): 28\n",
      "    MAG: rank 28 computed from 28 data channels with 0 projectors\n",
      "Reducing data rank from 28 -> 28\n",
      "Estimating covariance using EMPIRICAL\n",
      "Done.\n",
      "Computing rank from data with rank=None\n",
      "    Using tolerance 7.3 (2.2e-16 eps * 28 dim * 1.2e+15  max singular value)\n",
      "    Estimated rank (mag): 28\n",
      "    MAG: rank 28 computed from 28 data channels with 0 projectors\n",
      "Reducing data rank from 28 -> 28\n",
      "Estimating covariance using EMPIRICAL\n",
      "Done.\n",
      "Computing rank from data with rank=None\n",
      "    Using tolerance 7.7 (2.2e-16 eps * 28 dim * 1.2e+15  max singular value)\n",
      "    Estimated rank (mag): 28\n",
      "    MAG: rank 28 computed from 28 data channels with 0 projectors\n",
      "Reducing data rank from 28 -> 28\n",
      "Estimating covariance using EMPIRICAL\n",
      "Done.\n",
      "Computing rank from data with rank=None\n",
      "    Using tolerance 7.5 (2.2e-16 eps * 28 dim * 1.2e+15  max singular value)\n",
      "    Estimated rank (mag): 28\n",
      "    MAG: rank 28 computed from 28 data channels with 0 projectors\n",
      "Reducing data rank from 28 -> 28\n",
      "Estimating covariance using EMPIRICAL\n",
      "Done.\n",
      "Computing rank from data with rank=None\n",
      "    Using tolerance 7.5 (2.2e-16 eps * 28 dim * 1.2e+15  max singular value)\n",
      "    Estimated rank (mag): 28\n",
      "    MAG: rank 28 computed from 28 data channels with 0 projectors\n",
      "Reducing data rank from 28 -> 28\n",
      "Estimating covariance using EMPIRICAL\n",
      "Done.\n",
      "Computing rank from data with rank=None\n",
      "    Using tolerance 7.3 (2.2e-16 eps * 28 dim * 1.2e+15  max singular value)\n",
      "    Estimated rank (mag): 28\n",
      "    MAG: rank 28 computed from 28 data channels with 0 projectors\n",
      "Reducing data rank from 28 -> 28\n",
      "Estimating covariance using EMPIRICAL\n",
      "Done.\n",
      "[0.92592593 0.75925926 0.77777778 0.77358491 0.79245283] 0.8058001397624039\n"
     ]
    }
   ],
   "source": [
    "#cross-valuation results for MLP\n",
    "cross_val = cross_val_score(pipe, xt_high, yt)\n",
    "print(cross_val, np.average(cross_val))"
   ]
  },
  {
   "cell_type": "code",
   "execution_count": 29,
   "metadata": {},
   "outputs": [
    {
     "name": "stdout",
     "output_type": "stream",
     "text": [
      "Computing rank from data with rank=None\n",
      "    Using tolerance 8.5 (2.2e-16 eps * 28 dim * 1.4e+15  max singular value)\n",
      "    Estimated rank (mag): 28\n",
      "    MAG: rank 28 computed from 28 data channels with 0 projectors\n",
      "Reducing data rank from 28 -> 28\n",
      "Estimating covariance using EMPIRICAL\n",
      "Done.\n",
      "Computing rank from data with rank=None\n",
      "    Using tolerance 8.4 (2.2e-16 eps * 28 dim * 1.3e+15  max singular value)\n",
      "    Estimated rank (mag): 28\n",
      "    MAG: rank 28 computed from 28 data channels with 0 projectors\n",
      "Reducing data rank from 28 -> 28\n",
      "Estimating covariance using EMPIRICAL\n",
      "Done.\n"
     ]
    },
    {
     "data": {
      "text/plain": [
       "0.8333333333333334"
      ]
     },
     "execution_count": 29,
     "metadata": {},
     "output_type": "execute_result"
    }
   ],
   "source": [
    "#test data set result for MLP\n",
    "pipe.fit(xt_high, yt)\n",
    "pipe.score(xs_high, ys)"
   ]
  },
  {
   "cell_type": "code",
   "execution_count": 30,
   "metadata": {},
   "outputs": [
    {
     "name": "stdout",
     "output_type": "stream",
     "text": [
      "Computing rank from data with rank=None\n",
      "    Using tolerance 7.5 (2.2e-16 eps * 28 dim * 1.2e+15  max singular value)\n",
      "    Estimated rank (mag): 28\n",
      "    MAG: rank 28 computed from 28 data channels with 0 projectors\n",
      "Reducing data rank from 28 -> 28\n",
      "Estimating covariance using EMPIRICAL\n",
      "Done.\n",
      "Computing rank from data with rank=None\n",
      "    Using tolerance 7.6 (2.2e-16 eps * 28 dim * 1.2e+15  max singular value)\n",
      "    Estimated rank (mag): 28\n",
      "    MAG: rank 28 computed from 28 data channels with 0 projectors\n",
      "Reducing data rank from 28 -> 28\n",
      "Estimating covariance using EMPIRICAL\n",
      "Done.\n",
      "Computing rank from data with rank=None\n",
      "    Using tolerance 7.6 (2.2e-16 eps * 28 dim * 1.2e+15  max singular value)\n",
      "    Estimated rank (mag): 28\n",
      "    MAG: rank 28 computed from 28 data channels with 0 projectors\n",
      "Reducing data rank from 28 -> 28\n",
      "Estimating covariance using EMPIRICAL\n",
      "Done.\n",
      "Computing rank from data with rank=None\n",
      "    Using tolerance 7.5 (2.2e-16 eps * 28 dim * 1.2e+15  max singular value)\n",
      "    Estimated rank (mag): 28\n",
      "    MAG: rank 28 computed from 28 data channels with 0 projectors\n",
      "Reducing data rank from 28 -> 28\n",
      "Estimating covariance using EMPIRICAL\n",
      "Done.\n",
      "Computing rank from data with rank=None\n",
      "    Using tolerance 7.7 (2.2e-16 eps * 28 dim * 1.2e+15  max singular value)\n",
      "    Estimated rank (mag): 28\n",
      "    MAG: rank 28 computed from 28 data channels with 0 projectors\n",
      "Reducing data rank from 28 -> 28\n",
      "Estimating covariance using EMPIRICAL\n",
      "Done.\n",
      "Computing rank from data with rank=None\n",
      "    Using tolerance 7.3 (2.2e-16 eps * 28 dim * 1.2e+15  max singular value)\n",
      "    Estimated rank (mag): 28\n",
      "    MAG: rank 28 computed from 28 data channels with 0 projectors\n",
      "Reducing data rank from 28 -> 28\n",
      "Estimating covariance using EMPIRICAL\n",
      "Done.\n",
      "Computing rank from data with rank=None\n",
      "    Using tolerance 7.7 (2.2e-16 eps * 28 dim * 1.2e+15  max singular value)\n",
      "    Estimated rank (mag): 28\n",
      "    MAG: rank 28 computed from 28 data channels with 0 projectors\n",
      "Reducing data rank from 28 -> 28\n",
      "Estimating covariance using EMPIRICAL\n",
      "Done.\n",
      "Computing rank from data with rank=None\n",
      "    Using tolerance 7.5 (2.2e-16 eps * 28 dim * 1.2e+15  max singular value)\n",
      "    Estimated rank (mag): 28\n",
      "    MAG: rank 28 computed from 28 data channels with 0 projectors\n",
      "Reducing data rank from 28 -> 28\n",
      "Estimating covariance using EMPIRICAL\n",
      "Done.\n",
      "Computing rank from data with rank=None\n",
      "    Using tolerance 7.5 (2.2e-16 eps * 28 dim * 1.2e+15  max singular value)\n",
      "    Estimated rank (mag): 28\n",
      "    MAG: rank 28 computed from 28 data channels with 0 projectors\n",
      "Reducing data rank from 28 -> 28\n",
      "Estimating covariance using EMPIRICAL\n",
      "Done.\n",
      "Computing rank from data with rank=None\n",
      "    Using tolerance 7.3 (2.2e-16 eps * 28 dim * 1.2e+15  max singular value)\n",
      "    Estimated rank (mag): 28\n",
      "    MAG: rank 28 computed from 28 data channels with 0 projectors\n",
      "Reducing data rank from 28 -> 28\n",
      "Estimating covariance using EMPIRICAL\n",
      "Done.\n",
      "[0.90740741 0.74074074 0.77777778 0.77358491 0.8490566 ] 0.8097134870719778\n"
     ]
    }
   ],
   "source": [
    "#cross-valuation results for RBF\n",
    "cross_val = cross_val_score(rbfpipe, xt_high, yt)\n",
    "print(cross_val, np.average(cross_val))"
   ]
  },
  {
   "cell_type": "code",
   "execution_count": 31,
   "metadata": {},
   "outputs": [
    {
     "name": "stdout",
     "output_type": "stream",
     "text": [
      "Computing rank from data with rank=None\n",
      "    Using tolerance 8.5 (2.2e-16 eps * 28 dim * 1.4e+15  max singular value)\n",
      "    Estimated rank (mag): 28\n",
      "    MAG: rank 28 computed from 28 data channels with 0 projectors\n",
      "Reducing data rank from 28 -> 28\n",
      "Estimating covariance using EMPIRICAL\n",
      "Done.\n",
      "Computing rank from data with rank=None\n",
      "    Using tolerance 8.4 (2.2e-16 eps * 28 dim * 1.3e+15  max singular value)\n",
      "    Estimated rank (mag): 28\n",
      "    MAG: rank 28 computed from 28 data channels with 0 projectors\n",
      "Reducing data rank from 28 -> 28\n",
      "Estimating covariance using EMPIRICAL\n",
      "Done.\n"
     ]
    },
    {
     "data": {
      "text/plain": [
       "0.8541666666666666"
      ]
     },
     "execution_count": 31,
     "metadata": {},
     "output_type": "execute_result"
    }
   ],
   "source": [
    "#Test data results for RBF\n",
    "rbfpipe.fit(xt_high, yt)\n",
    "rbfpipe.score(xs_high, ys)"
   ]
  },
  {
   "cell_type": "code",
   "execution_count": 32,
   "metadata": {},
   "outputs": [
    {
     "data": {
      "text/plain": [
       "array([[22,  1],\n",
       "       [ 7, 18]], dtype=int64)"
      ]
     },
     "execution_count": 32,
     "metadata": {},
     "output_type": "execute_result"
    }
   ],
   "source": [
    "#confusion matrix for the test data (MLP)\n",
    "confusion_matrix(ys, pipe.predict(xs_high))"
   ]
  },
  {
   "cell_type": "code",
   "execution_count": 33,
   "metadata": {},
   "outputs": [
    {
     "data": {
      "text/plain": [
       "array([1, 0, 0, 1, 1, 0, 0, 1, 0, 0, 1, 1, 1, 1, 0, 1, 1, 0, 0, 0, 1, 0,\n",
       "       0, 0, 0, 0, 0, 1, 1, 0, 1, 0, 1, 0, 0, 0, 0, 1, 1, 1, 0, 1, 1, 1,\n",
       "       0, 0, 0, 0, 0, 1, 1, 0, 1, 1, 1, 0, 1, 0, 1, 0, 1, 0, 0, 1, 0, 1,\n",
       "       1, 0, 1, 1, 1, 0, 1, 1, 0, 1, 1, 1, 0, 1, 0, 0, 0, 1, 0, 0, 0, 1,\n",
       "       0, 0, 1, 0, 0, 0, 1, 1, 1, 0, 1, 1], dtype=uint8)"
      ]
     },
     "execution_count": 33,
     "metadata": {},
     "output_type": "execute_result"
    }
   ],
   "source": [
    "#RBF predictions\n",
    "rbfpipe.predict(x_test_high)"
   ]
  },
  {
   "cell_type": "code",
   "execution_count": 34,
   "metadata": {},
   "outputs": [
    {
     "data": {
      "text/plain": [
       "array([1, 0, 0, 1, 1, 0, 0, 1, 0, 0, 1, 1, 1, 1, 0, 1, 1, 0, 0, 0, 1, 0,\n",
       "       0, 0, 0, 0, 0, 1, 0, 0, 1, 0, 1, 0, 0, 0, 0, 1, 1, 1, 0, 1, 1, 1,\n",
       "       0, 0, 0, 0, 0, 1, 1, 0, 1, 1, 1, 0, 1, 0, 1, 0, 1, 0, 0, 1, 0, 1,\n",
       "       1, 0, 1, 1, 1, 0, 1, 1, 0, 1, 1, 1, 0, 1, 0, 0, 0, 1, 0, 0, 0, 1,\n",
       "       0, 0, 1, 0, 0, 0, 1, 1, 1, 0, 1, 1], dtype=uint8)"
      ]
     },
     "execution_count": 34,
     "metadata": {},
     "output_type": "execute_result"
    }
   ],
   "source": [
    "#MLP predictions\n",
    "pipe.predict(x_test_high)"
   ]
  },
  {
   "cell_type": "code",
   "execution_count": 21,
   "metadata": {},
   "outputs": [
    {
     "data": {
      "text/plain": [
       "array(['C5', 'C3', 'C1', 'CP5', 'CP3', 'CP1', 'CPz', 'O1'], dtype='<U3')"
      ]
     },
     "execution_count": 21,
     "metadata": {},
     "output_type": "execute_result"
    }
   ],
   "source": [
    "#Activation channels (for viewing the suppression, change the equality)\n",
    "channal_names[pipe.named_steps['csp'].patterns_[0]>0.8] #Channel suppression and activation patterns "
   ]
  },
  {
   "cell_type": "code",
   "execution_count": 43,
   "metadata": {},
   "outputs": [
    {
     "data": {
      "image/png": "[encoded data removed]",
      "text/plain": [
       "<Figure size 432x288 with 1 Axes>"
      ]
     },
     "metadata": {
      "needs_background": "light"
     },
     "output_type": "display_data"
    }
   ],
   "source": [
    "plt.scatter(pipe.named_steps['csp'].transform(xt_high)[yt==1][:,0], pipe.named_steps['csp'].transform(xt_high)[yt==1][:,1], marker='.')\n",
    "plt.scatter(pipe.named_steps['csp'].transform(xt_high)[yt==0][:,0], pipe.named_steps['csp'].transform(xt_high)[yt==0][:,1], marker='+')\n",
    "plt.xlabel(\"first white channel log(power)\")\n",
    "plt.ylabel(\"second white channel log(power)\")\n",
    "plt.title('First two white channels data')\n",
    "plt.legend([\"labeled 1\", \"labeled 0\"])\n",
    "plt.show()\n"
   ]
  },
  {
   "cell_type": "code",
   "execution_count": 35,
   "metadata": {},
   "outputs": [
    {
     "name": "stdout",
     "output_type": "stream",
     "text": [
      "Computing rank from data with rank=None\n",
      "    Using tolerance 8.5 (2.2e-16 eps * 28 dim * 1.4e+15  max singular value)\n",
      "    Estimated rank (mag): 28\n",
      "    MAG: rank 28 computed from 28 data channels with 0 projectors\n",
      "Reducing data rank from 28 -> 28\n",
      "Estimating covariance using EMPIRICAL\n",
      "Done.\n",
      "Computing rank from data with rank=None\n",
      "    Using tolerance 8.4 (2.2e-16 eps * 28 dim * 1.3e+15  max singular value)\n",
      "    Estimated rank (mag): 28\n",
      "    MAG: rank 28 computed from 28 data channels with 0 projectors\n",
      "Reducing data rank from 28 -> 28\n",
      "Estimating covariance using EMPIRICAL\n",
      "Done.\n",
      "Computing rank from data with rank=None\n",
      "    Using tolerance 13 (2.2e-16 eps * 28 dim * 2.1e+15  max singular value)\n",
      "    Estimated rank (mag): 28\n",
      "    MAG: rank 28 computed from 28 data channels with 0 projectors\n",
      "Reducing data rank from 28 -> 28\n",
      "Estimating covariance using EMPIRICAL\n",
      "Done.\n",
      "Computing rank from data with rank=None\n",
      "    Using tolerance 11 (2.2e-16 eps * 28 dim * 1.8e+15  max singular value)\n",
      "    Estimated rank (mag): 28\n",
      "    MAG: rank 28 computed from 28 data channels with 0 projectors\n",
      "Reducing data rank from 28 -> 28\n",
      "Estimating covariance using EMPIRICAL\n",
      "Done.\n"
     ]
    }
   ],
   "source": [
    "#building csp parameters\n",
    "csp_high = CSP(n_components=4, reg=None, transform_into='csp_space')\n",
    "#fitting it to the test data\n",
    "zt_high = csp_high.fit_transform(xt_high, yt)\n",
    "#applying it to test data and the ulabeled signals\n",
    "zs_high = csp_high.transform(xs_high)\n",
    "z_test_high = csp_high.transform(x_test_high)\n",
    "\n",
    "csp_mid = CSP(n_components=4, reg=None, transform_into='csp_space')\n",
    "zt_mid = csp_mid.fit_transform(xt_mid, yt)\n",
    "zs_mid = csp_mid.transform(xs_mid)\n",
    "z_test_mid = csp_mid.transform(x_test_mid)"
   ]
  },
  {
   "cell_type": "code",
   "execution_count": 36,
   "metadata": {},
   "outputs": [],
   "source": [
    "zt_high_power = np.log(np.sum(zt_high**2, axis=2)) #log power features\n",
    "zt_mid_power = np.log(np.sum(zt_mid**2, axis=2))\n",
    "\n",
    "zs_high_power = np.log(np.sum(zs_high**2, axis=2)) #log power features\n",
    "zs_mid_power = np.log(np.sum(zs_mid**2, axis=2))\n",
    "\n",
    "z_test_high_power = np.log(np.sum(z_test_high**2, axis=2)) #log power features\n",
    "z_test_mid_power = np.log(np.sum(z_test_mid**2, axis=2))\n"
   ]
  },
  {
   "cell_type": "code",
   "execution_count": 37,
   "metadata": {},
   "outputs": [],
   "source": [
    "zt_high_skew = np.sum(zt_high**3, axis=2) #skew features\n",
    "zt_mid_skew = np.sum(zt_mid**3, axis=2)\n",
    "\n",
    "zs_high_skew = np.sum(zs_high**3, axis=2) #skew features\n",
    "zs_mid_skew = np.sum(zs_mid**3, axis=2)\n",
    "\n",
    "z_test_high_skew = np.sum(z_test_high**3, axis=2) #skew features\n",
    "z_test_mid_skew = np.sum(z_test_mid**3, axis=2)"
   ]
  },
  {
   "cell_type": "code",
   "execution_count": 38,
   "metadata": {},
   "outputs": [],
   "source": [
    "zt_high_kurt = np.sum(zt_high**4, axis=2) #kurtosis features\n",
    "zt_mid_kurt = np.sum(zt_mid**4, axis=2)\n",
    "\n",
    "zs_high_kurt = np.sum(zs_high**4, axis=2) #kurtosis features\n",
    "zs_mid_kurt = np.sum(zs_mid**4, axis=2)\n",
    "\n",
    "z_test_high_kurt = np.sum(z_test_high**4, axis=2) #kurtosis features\n",
    "z_test_mid_kurt = np.sum(z_test_mid**4, axis=2)"
   ]
  },
  {
   "cell_type": "code",
   "execution_count": 39,
   "metadata": {},
   "outputs": [],
   "source": [
    "zt_high_max = np.max(np.abs(zt_high), axis=2) #maximum amplitude\n",
    "zt_mid_max = np.max(np.abs(zt_mid), axis=2)\n",
    "\n",
    "zs_high_max = np.max(np.abs(zs_high), axis=2) #maximum amplitude\n",
    "zs_mid_max = np.max(np.abs(zs_mid), axis=2)\n",
    "\n",
    "z_test_high_max = np.max(np.abs(z_test_high), axis=2) #maximum amplitude\n",
    "z_test_mid_max = np.max(np.abs(z_test_mid), axis=2)"
   ]
  },
  {
   "cell_type": "code",
   "execution_count": 40,
   "metadata": {},
   "outputs": [],
   "source": [
    "zt_high_dot = zt_high[:,:,1:] - zt_high[:,:,:-1] #derivative log power\n",
    "zt_high_dot_power = np.log(np.sum(zt_high_dot**2, axis=2))\n",
    "\n",
    "zt_mid_dot = zt_mid[:,:,1:] - zt_mid[:,:,:-1] #derivative log power\n",
    "zt_mid_dot_power = np.log(np.sum(zt_mid_dot**2, axis=2))\n",
    "\n",
    "zs_high_dot = zs_high[:,:,1:] - zs_high[:,:,:-1] #derivative log power\n",
    "zs_high_dot_power = np.log(np.sum(zs_high_dot**2, axis=2))\n",
    "\n",
    "zs_mid_dot = zs_mid[:,:,1:] - zs_mid[:,:,:-1] #derivative log power\n",
    "zs_mid_dot_power = np.log(np.sum(zs_mid_dot**2, axis=2))\n",
    "\n",
    "z_test_high_dot = z_test_high[:,:,1:] - z_test_high[:,:,:-1] #derivative log power\n",
    "z_test_high_dot_power = np.log(np.sum(z_test_high_dot**2, axis=2))\n",
    "\n",
    "z_test_mid_dot = z_test_mid[:,:,1:] - z_test_mid[:,:,:-1] #derivative log power\n",
    "z_test_mid_dot_power = np.log(np.sum(z_test_mid_dot**2, axis=2))"
   ]
  },
  {
   "cell_type": "code",
   "execution_count": 41,
   "metadata": {},
   "outputs": [],
   "source": [
    "#putting them all together\n",
    "ft = np.concatenate((zt_high_power, zt_mid_power, zt_high_skew, zt_mid_skew, zt_high_kurt, zt_mid_kurt, zt_high_max, zt_mid_max, zt_high_dot_power, zt_mid_dot_power), axis=1)\n",
    "fs = np.concatenate((zs_high_power, zs_mid_power, zs_high_skew, zs_mid_skew, zs_high_kurt, zs_mid_kurt, zs_high_max, zs_mid_max, zs_high_dot_power, zs_mid_dot_power), axis=1)\n",
    "f_test = np.concatenate((z_test_high_power, z_test_mid_power, z_test_high_skew, z_test_mid_skew, z_test_high_kurt, z_test_mid_kurt, z_test_high_max, z_test_mid_max, z_test_high_dot_power, z_test_mid_dot_power), axis=1)"
   ]
  },
  {
   "cell_type": "code",
   "execution_count": 285,
   "metadata": {},
   "outputs": [
    {
     "name": "stdout",
     "output_type": "stream",
     "text": [
      " The best solution found:                                                                           \n",
      " [1. 1. 1. 1. 1. 1. 1. 1. 0. 0. 0. 0. 0. 0. 0. 0. 0. 0. 0. 0. 0. 0. 0. 0.\n",
      " 1. 1. 1. 0. 0. 1. 1. 1. 1. 1. 1. 1. 1. 1. 1. 1.]\n",
      "\n",
      " Objective function:\n",
      " -1.022872594086543\n"
     ]
    },
    {
     "data": {
      "image/png": "[encoded data removed]",
      "text/plain": [
       "<Figure size 432x288 with 1 Axes>"
      ]
     },
     "metadata": {
      "needs_background": "light"
     },
     "output_type": "display_data"
    }
   ],
   "source": [
    "### Genetic Algorithm\n",
    "algorithm_param = {'max_num_iteration': 1100,\\\n",
    "                   'population_size':100,\\\n",
    "                   'mutation_probability':0.1,\\\n",
    "                   'elit_ratio': 0.01,\\\n",
    "                   'crossover_probability': 0.5,\\\n",
    "                   'parents_portion': 0.3,\\\n",
    "                   'crossover_type':'uniform',\\\n",
    "                   'max_iteration_without_improv':None}\n",
    "\n",
    "model = gal(function=fitness, dimension=40, variable_type='bool', algorithm_parameters=algorithm_param)\n",
    "model.run()"
   ]
  },
  {
   "cell_type": "code",
   "execution_count": 42,
   "metadata": {},
   "outputs": [],
   "source": [
    "#aving the gene coresponding to best features\n",
    "X = np.array([1, 1, 1, 1, 1, 1, 1, 1, 0, 0, 0, 0, 0, 0, 0, 0, 0, 0, 0, 0, 0, 0, 0, 0,\n",
    " 1, 1, 1, 0, 0, 1, 1, 1, 1, 1, 1, 1, 1, 1, 1, 1,], dtype=bool)\n",
    "#slicing the data to include only the best features\n",
    "ft_selected = ft[:,X]\n",
    "fs_selected = fs[:,X]\n",
    "f_test_selected = f_test[:,X]"
   ]
  },
  {
   "cell_type": "code",
   "execution_count": 43,
   "metadata": {},
   "outputs": [],
   "source": [
    "#building the pipeline for best features\n",
    "full_pipe = Pipeline([('pca', PCA(20)),('nn', MLPClassifier((15, 5, 2), max_iter=50000, activation=\"tanh\", random_state=0))])\n",
    "rbf_full_pipe = Pipeline([('pca', PCA(20)),('rbf', SVC(C=0.5, kernel = 'rbf'))])"
   ]
  },
  {
   "cell_type": "code",
   "execution_count": 44,
   "metadata": {},
   "outputs": [
    {
     "name": "stdout",
     "output_type": "stream",
     "text": [
      "[0.88888889 0.88888889 0.92592593 0.88679245 0.88679245] 0.8954577218728161\n"
     ]
    }
   ],
   "source": [
    "#MLP cross-validation results\n",
    "cross_val = cross_val_score(full_pipe, ft_selected, yt)\n",
    "print(cross_val, np.average(cross_val))"
   ]
  },
  {
   "cell_type": "code",
   "execution_count": 45,
   "metadata": {},
   "outputs": [
    {
     "data": {
      "text/plain": [
       "0.875"
      ]
     },
     "execution_count": 45,
     "metadata": {},
     "output_type": "execute_result"
    }
   ],
   "source": [
    "#MLP test data score\n",
    "full_pipe.fit(ft_selected, yt)\n",
    "full_pipe.score(fs_selected, ys)"
   ]
  },
  {
   "cell_type": "code",
   "execution_count": 46,
   "metadata": {},
   "outputs": [
    {
     "data": {
      "text/plain": [
       "array([0, 0, 0, 1, 1, 0, 0, 1, 0, 0, 1, 0, 0, 1, 1, 1, 1, 0, 0, 1, 1, 0,\n",
       "       0, 0, 0, 0, 0, 1, 1, 1, 0, 0, 1, 0, 0, 0, 0, 1, 1, 1, 0, 1, 1, 1,\n",
       "       0, 0, 0, 0, 0, 1, 1, 0, 1, 1, 1, 0, 1, 0, 1, 0, 1, 0, 0, 1, 0, 1,\n",
       "       1, 0, 1, 1, 1, 1, 1, 1, 0, 1, 1, 1, 0, 0, 0, 0, 0, 1, 0, 0, 0, 1,\n",
       "       0, 0, 1, 0, 0, 0, 0, 1, 1, 0, 1, 1], dtype=uint8)"
      ]
     },
     "execution_count": 46,
     "metadata": {},
     "output_type": "execute_result"
    }
   ],
   "source": [
    "#MLP predictions for unlabeled data\n",
    "full_pipe.predict(f_test_selected)"
   ]
  },
  {
   "cell_type": "code",
   "execution_count": 47,
   "metadata": {},
   "outputs": [
    {
     "name": "stdout",
     "output_type": "stream",
     "text": [
      "[0.90740741 0.88888889 0.92592593 0.86792453 0.83018868] 0.8840670859538784\n"
     ]
    }
   ],
   "source": [
    "#RBF cross-validation results\n",
    "cross_val = cross_val_score(rbf_full_pipe, ft_selected, yt)\n",
    "print(cross_val, np.average(cross_val))"
   ]
  },
  {
   "cell_type": "code",
   "execution_count": 48,
   "metadata": {},
   "outputs": [
    {
     "data": {
      "text/plain": [
       "0.8541666666666666"
      ]
     },
     "execution_count": 48,
     "metadata": {},
     "output_type": "execute_result"
    }
   ],
   "source": [
    "#RBF on test data\n",
    "rbf_full_pipe.fit(ft_selected, yt)\n",
    "rbf_full_pipe.score(fs_selected, ys)"
   ]
  },
  {
   "cell_type": "code",
   "execution_count": 49,
   "metadata": {},
   "outputs": [
    {
     "data": {
      "text/plain": [
       "array([0, 0, 0, 1, 1, 0, 0, 1, 0, 0, 1, 0, 0, 1, 0, 1, 1, 0, 0, 0, 1, 0,\n",
       "       0, 0, 0, 0, 0, 1, 1, 1, 0, 0, 1, 1, 0, 0, 0, 1, 1, 1, 0, 1, 1, 1,\n",
       "       0, 0, 0, 0, 0, 1, 1, 0, 1, 1, 1, 0, 1, 0, 1, 0, 1, 0, 0, 1, 0, 1,\n",
       "       1, 0, 1, 1, 1, 1, 1, 1, 0, 1, 1, 1, 0, 0, 0, 0, 0, 1, 0, 1, 0, 1,\n",
       "       0, 0, 1, 0, 0, 0, 0, 1, 1, 0, 1, 1], dtype=uint8)"
      ]
     },
     "execution_count": 49,
     "metadata": {},
     "output_type": "execute_result"
    }
   ],
   "source": [
    "#RBF predictions for unlabeld data\n",
    "rbf_full_pipe.predict(f_test_selected)"
   ]
  }
 ],
 "metadata": {
  "interpreter": {
   "hash": "f8a4220264a22d692c2e3132ffee74066f7b7c05c532ec5d92c4520053df6773"
  },
  "kernelspec": {
   "display_name": "Python 3.7.9 64-bit",
   "language": "python",
   "name": "python3"
  },
  "language_info": {
   "codemirror_mode": {
    "name": "ipython",
    "version": 3
   },
   "file_extension": ".py",
   "mimetype": "text/x-python",
   "name": "python",
   "nbconvert_exporter": "python",
   "pygments_lexer": "ipython3",
   "version": "3.7.9"
  },
  "orig_nbformat": 4
 },
 "nbformat": 4,
 "nbformat_minor": 2
}
